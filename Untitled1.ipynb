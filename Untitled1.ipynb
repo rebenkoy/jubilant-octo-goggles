{
 "cells": [
  {
   "cell_type": "code",
   "execution_count": 8,
   "id": "prime-recommendation",
   "metadata": {},
   "outputs": [],
   "source": [
    "import numpy as np\n",
    "import seaborn as sn\n",
    "from tqdm.notebook import tqdm"
   ]
  },
  {
   "cell_type": "code",
   "execution_count": null,
   "id": "composed-future",
   "metadata": {},
   "outputs": [],
   "source": [
    "class Node:\n",
    "    __slots__ = [\n",
    "        \"neighbours_pos\",\n",
    "    ]\n",
    "    \n",
    "    def __init__(self, router, neighbours_ids):\n",
    "        self.neighbours_pos = {neigh: None for neigh in self.neighbours_ids}\n",
    "        self.router = router\n",
    "    \n",
    "    def channel(self):\n",
    "        pass\n",
    "    \n",
    "    def materialize(self):\n",
    "        for neigh in self.neighbours_ids:\n",
    "            self.neighbours_pos[neigh] = self.router.get_pos(neigh)\n",
    "    \n",
    "    def act(self):\n",
    "        "
   ]
  }
 ],
 "metadata": {
  "kernelspec": {
   "display_name": "Python 3",
   "language": "python",
   "name": "python3"
  },
  "language_info": {
   "codemirror_mode": {
    "name": "ipython",
    "version": 3
   },
   "file_extension": ".py",
   "mimetype": "text/x-python",
   "name": "python",
   "nbconvert_exporter": "python",
   "pygments_lexer": "ipython3",
   "version": "3.6.9"
  }
 },
 "nbformat": 4,
 "nbformat_minor": 5
}
