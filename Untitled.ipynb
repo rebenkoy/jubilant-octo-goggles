{
 "cells": [
  {
   "cell_type": "code",
   "execution_count": 106,
   "id": "rocky-medicaid",
   "metadata": {},
   "outputs": [],
   "source": [
    "import mesa\n",
    "import copy\n",
    "from mesa.time import RandomActivation\n",
    "import random\n",
    "import time\n",
    "import collections\n",
    "import math\n",
    "import numpy as np\n",
    "import seaborn as sn\n",
    "from tqdm import tqdm_notebook as tqdm"
   ]
  },
  {
   "cell_type": "code",
   "execution_count": 2,
   "id": "allied-tracy",
   "metadata": {},
   "outputs": [],
   "source": [
    "class Graph:\n",
    "    def __init__(self, connectivity_list, encoding=None):\n",
    "        self.encoding = encoding\n",
    "        if self.encoding is None:\n",
    "            self.encoding = {}\n",
    "        self.connectivity_list = copy.deepcopy(connectivity_list)\n",
    "    \n",
    "    @classmethod\n",
    "    def encode(cls, token_connectivity):\n",
    "        encoding = {actor: idx for idx, actor in enumerate(token_connectivity)}\n",
    "        \n",
    "        connectivity_list = []\n",
    "        for neighbours in token_connectivity.values():\n",
    "            connections = []\n",
    "            for neighbour in neighbours:\n",
    "                idx = encoding.get(neighbour)\n",
    "                if idx is None:\n",
    "                    idx = len(encoding)\n",
    "                    encoding[neighbour] = idx\n",
    "                connections.append(idx)\n",
    "            connectivity_list.append(connections)\n",
    "            \n",
    "        return cls(connectivity_list, encoding=encoding)"
   ]
  },
  {
   "cell_type": "code",
   "execution_count": 3,
   "id": "corrected-pacific",
   "metadata": {},
   "outputs": [],
   "source": [
    "class SymGraph(Graph):\n",
    "    def __init__(self, connectivity_list, encoding=None):\n",
    "        sym_connectivity_list = collections.defaultdict(set)\n",
    "        for idx, neighbours in enumerate(connectivity_list):\n",
    "            for neighbour in neighbours:\n",
    "                sym_connectivity_list[idx].add(neighbour)\n",
    "                sym_connectivity_list[neighbour].add(idx)\n",
    "        \n",
    "        super().__init__([list(x[1]) for x in sorted(sym_connectivity_list.items())], encoding)"
   ]
  },
  {
   "cell_type": "code",
   "execution_count": 4,
   "id": "suited-funeral",
   "metadata": {},
   "outputs": [],
   "source": [
    "class Embedding:\n",
    "    class Point:\n",
    "        def __repr__(self):\n",
    "            raise NotImplementedError\n",
    "        \n",
    "        def __str__(self):\n",
    "            return repr(self)\n",
    "    \n",
    "    def distance(self, p1, p2):\n",
    "        raise NotImplementedError\n",
    "        \n",
    "    def get_slots(self, n):\n",
    "        raise NotImplementedError"
   ]
  },
  {
   "cell_type": "code",
   "execution_count": 5,
   "id": "significant-terrorist",
   "metadata": {},
   "outputs": [],
   "source": [
    "class NodeAgent(mesa.Agent):\n",
    "    \"\"\" An agent with fixed initial wealth.\"\"\"\n",
    "    def __init__(self, unique_id, model, neighbour_list, initial_point):\n",
    "        super().__init__(unique_id, model)\n",
    "        self.idx = unique_id \n",
    "        self.neighbour_list = neighbour_list\n",
    "        self.point = initial_point\n",
    "\n",
    "    def step(self):\n",
    "        self.model.act(self.idx, random.choice(self.neighbour_list))"
   ]
  },
  {
   "cell_type": "code",
   "execution_count": 205,
   "id": "separate-gossip",
   "metadata": {},
   "outputs": [],
   "source": [
    "class ShrinkingWordModel(mesa.Model):\n",
    "    \"\"\"A model with some number of agents.\"\"\"\n",
    "    def __init__(self, graph, embedding):\n",
    "        self.graph = graph\n",
    "        self.embedding = embedding(self.graph)\n",
    "        \n",
    "        self.schedule = RandomActivation(self)\n",
    "        \n",
    "        # Create agents\n",
    "        self.agents = []\n",
    "        slots = self.embedding.get_slots()\n",
    "        \n",
    "        for idx, neighbour_list in enumerate(self.graph.connectivity_list):\n",
    "            a = NodeAgent(idx, self, neighbour_list, slots[idx])\n",
    "            self.agents.append(a)\n",
    "            self.schedule.add(a)\n",
    "            \n",
    "    def act(self, ida, idb):\n",
    "        score = self.score_transmutation(ida, idb)\n",
    "        if random.random() > 1 - np.exp(score):\n",
    "            self.swap(ida, idb)\n",
    "            \n",
    "    def score_transmutation(self, ida, idb):\n",
    "        agent_a = self.agents[ida]\n",
    "        agent_b = self.agents[idb]\n",
    "        \n",
    "        old_score = self.score(\n",
    "            agent_a.point,\n",
    "            [\n",
    "                idx \n",
    "                for idx in agent_a.neighbour_list \n",
    "                if idx != idb\n",
    "            ]\n",
    "        ) + self.score(\n",
    "            agent_b.point,\n",
    "            [\n",
    "                idx\n",
    "                for idx in agent_b.neighbour_list \n",
    "                if idx != ida\n",
    "            ]\n",
    "        )\n",
    "        new_score = self.score(\n",
    "            agent_b.point,\n",
    "            [\n",
    "                idx\n",
    "                for idx in agent_a.neighbour_list\n",
    "                if idx != idb\n",
    "            ]\n",
    "        ) + self.score(\n",
    "            agent_a.point,\n",
    "            [\n",
    "                idx\n",
    "                for idx in agent_b.neighbour_list \n",
    "                if\n",
    "                idx != ida\n",
    "            ]\n",
    "        )\n",
    "        if old_score == 0:\n",
    "            print(f'Agents {ida} and {idb} at locations ({self.agents[ida].point}) and ({self.agents[idb].point}) have 0 old score, applying bandaid fix.')\n",
    "            raise Exception((ida, idb, self.agents[ida], self.agents[idb]))\n",
    "        if new_score == 0:\n",
    "            print(f'Agents {ida} and {idb} at locations ({self.agents[ida].point}) and ({self.agents[idb].point}) have 0 new score, applying bandaid fix.')\n",
    "            raise Exception((ida, idb, self.agents[ida], self.agents[idb]))\n",
    "        \n",
    "        return old_score - new_score\n",
    "            \n",
    "    def score(self, pos, neighbours):\n",
    "        prod = 0\n",
    "        for neigh in neighbours:\n",
    "            neighbour_pos = self.agents[neigh].point\n",
    "            prod += math.log(self.embedding.distance(pos, neighbour_pos))\n",
    "        return prod\n",
    "    \n",
    "    def swap(self, ida, idb):\n",
    "        self.agents[ida].point, self.agents[idb].point = self.agents[idb].point, self.agents[ida].point\n",
    "    \n",
    "    def step(self):\n",
    "        '''Advance the model by one step.'''\n",
    "        self.schedule.step()\n",
    "    \n",
    "    def tunnel(self, idx, location, hops_done=0):\n",
    "        x = self.agents[idx]\n",
    "        neighbour_locations = [self.agents[k].point for k in x.neighbour_list]\n",
    "        pairs = zip(x.neighbour_list, neighbour_locations)\n",
    "        pick = min(pairs, key=lambda a: self.embedding.distance(location, a[1]))[0]\n",
    "        \n",
    "        if self.embedding.distance(self.agents[pick].point, location) >= self.embedding.distance(x.point, location):\n",
    "            return hops_done, self.embedding.distance(x.point, location)\n",
    "        \n",
    "        return self.tunnel(pick, location, hops_done+1)\n",
    "        \n",
    "    \n",
    "    def train(self, n=100):\n",
    "        for i in tqdm(range(n)):\n",
    "            self.step()\n",
    "    \n",
    "    \n",
    "    def test(self, n=5):\n",
    "        results = []\n",
    "        for i in tqdm(range(n)):\n",
    "            src = random.choice(self.agents)\n",
    "            tgt = random.choice(self.agents)\n",
    "            t = self.tunnel(src.idx, tgt.point)\n",
    "#             print(f'Hops done ({src.idx} -> {tgt.idx}): {t[0]}')\n",
    "#             print('Distance to target: ' + str(t[1]))\n",
    "            results.append([src.idx, tgt.idx, t[0], t[1]])\n",
    "        return np.array(results)"
   ]
  },
  {
   "cell_type": "code",
   "execution_count": 162,
   "id": "sharing-railway",
   "metadata": {},
   "outputs": [],
   "source": [
    "class LineEmbedding(Embedding):\n",
    "    class Point(Embedding.Point):\n",
    "        def __init__(self, cord):\n",
    "            self.cord = cord\n",
    "        \n",
    "        def __repr__(self):\n",
    "            return str(self.cord)\n",
    "    \n",
    "    def __init__(self, graph):\n",
    "        self.n = len(graph.connectivity_list)\n",
    "    \n",
    "    def distance(self, p1, p2):\n",
    "        return abs(p1.cord - p2.cord)\n",
    "    \n",
    "    def get_slots(self):\n",
    "        return [self.Point(x) for x in np.linspace(0, self.n, self.n)]\n",
    "    "
   ]
  },
  {
   "cell_type": "code",
   "execution_count": null,
   "id": "chubby-softball",
   "metadata": {},
   "outputs": [],
   "source": [
    "class CircleEmbedding(Embedding):\n",
    "    class Point(Embedding.Point):\n",
    "        def __init__(self, cord):\n",
    "            self.cord = cord\n",
    "        \n",
    "        def __repr__(self):\n",
    "            return str(self.cord)\n",
    "    \n",
    "    def __init__(self, graph):\n",
    "        self.n = len(graph.connectivity_list)\n",
    "    \n",
    "    def distance(self, p1, p2):\n",
    "        a, b = p1.cord, p2.cord\n",
    "        if a > b:\n",
    "            a, b = b, a\n",
    "        return min(b - a, a + (self.size - b))\n",
    "    \n",
    "    def get_slots(self):\n",
    "        return [self.Point(x) for x in np.linspace(0, self.n, self.n + 1)]\n",
    "    "
   ]
  },
  {
   "cell_type": "code",
   "execution_count": 202,
   "id": "incorrect-stanford",
   "metadata": {},
   "outputs": [],
   "source": [
    "class PlaneEmbedding(Embedding):\n",
    "    class Point(Embedding.Point):\n",
    "        def __init__(self, x, y):\n",
    "            self.x = x\n",
    "            self.y = y\n",
    "        \n",
    "        def __repr__(self):\n",
    "            return f'{self.x} + i{self.y}'\n",
    "    \n",
    "    def __init__(self, graph):\n",
    "        self.n = len(graph.connectivity_list)\n",
    "        \n",
    "    def distance(self, p1, p2):\n",
    "        return ((p1.x - p2.x) ** 2 + (p1.y - p2.y) ** 2)\n",
    "    \n",
    "    def get_slots(self):\n",
    "        sq = math.floor(math.sqrt(self.n) + 1)\n",
    "        return [\n",
    "            self.Point(x, y)\n",
    "            for x in np.linspace(0, sq, sq)\n",
    "            for y in np.linspace(0, sq, sq)\n",
    "        ]\n",
    "    "
   ]
  },
  {
   "cell_type": "code",
   "execution_count": 14,
   "id": "verbal-revelation",
   "metadata": {},
   "outputs": [],
   "source": [
    "def fetch_data():\n",
    "    !wget \"https://snap.stanford.edu/data/gemsec_deezer_dataset.tar.gz\"\n",
    "    !tar -xzvf gemsec_deezer_dataset.tar.gz"
   ]
  },
  {
   "cell_type": "code",
   "execution_count": 15,
   "id": "conservative-victoria",
   "metadata": {},
   "outputs": [],
   "source": [
    "# fetch_data()"
   ]
  },
  {
   "cell_type": "code",
   "execution_count": 17,
   "id": "applied-camcorder",
   "metadata": {},
   "outputs": [],
   "source": [
    "with open(\"deezer_clean_data/HU_edges.csv\") as Romania:\n",
    "    sym_connectivity_list = collections.defaultdict(set)\n",
    "    for row in Romania.read().strip().split()[1:]:\n",
    "        a, b = map(int, row.split(\",\"))\n",
    "        sym_connectivity_list[a].add(b)\n",
    "        sym_connectivity_list[b].add(a)\n",
    "    HU_deezer_graph = SymGraph([list(x[1]) for x in sorted(sym_connectivity_list.items())])"
   ]
  },
  {
   "cell_type": "code",
   "execution_count": 18,
   "id": "respiratory-twist",
   "metadata": {},
   "outputs": [],
   "source": [
    "HU_deezer_model = ShrinkingWordModel(HU_deezer_graph, embedding)"
   ]
  },
  {
   "cell_type": "code",
   "execution_count": 35,
   "id": "accompanied-overhead",
   "metadata": {},
   "outputs": [],
   "source": [
    "test_results = ShrinkingWordModel.test(HU_deezer_model, 10000)"
   ]
  },
  {
   "cell_type": "code",
   "execution_count": 56,
   "id": "faced-boxing",
   "metadata": {},
   "outputs": [
    {
     "name": "stderr",
     "output_type": "stream",
     "text": [
      "/home/rebenkoy/.local/lib/python3.6/site-packages/seaborn/_decorators.py:43: FutureWarning: Pass the following variable as a keyword arg: x. From version 0.12, the only valid positional argument will be `data`, and passing other arguments without an explicit keyword will result in an error or misinterpretation.\n",
      "  FutureWarning\n"
     ]
    },
    {
     "data": {
      "text/plain": [
       "<AxesSubplot:>"
      ]
     },
     "execution_count": 56,
     "metadata": {},
     "output_type": "execute_result"
    },
    {
     "data": {
      "image/png": "[encoded data removed]",
      "text/plain": [
       "<Figure size 432x288 with 1 Axes>"
      ]
     },
     "metadata": {
      "needs_background": "light"
     },
     "output_type": "display_data"
    }
   ],
   "source": [
    "sn.violinplot(test_results[:, -2])"
   ]
  },
  {
   "cell_type": "code",
   "execution_count": 55,
   "id": "split-terrorist",
   "metadata": {},
   "outputs": [
    {
     "data": {
      "text/plain": [
       "191"
      ]
     },
     "execution_count": 55,
     "metadata": {},
     "output_type": "execute_result"
    }
   ],
   "source": [
    "np.count_nonzero(test_results[:, -1] > 10000)"
   ]
  },
  {
   "cell_type": "code",
   "execution_count": 151,
   "id": "attached-modeling",
   "metadata": {},
   "outputs": [],
   "source": [
    "bamboo_size = 10000\n",
    "reordering = list(range(bamboo_size))\n",
    "random.shuffle(reordering)\n",
    "bamboo = [[] for v in range(bamboo_size)]\n",
    "for src, tgt in [[reordering[i], reordering[i + 1]] for i in range(bamboo_size - 1)]:\n",
    "    bamboo[src].append(tgt)\n",
    "    bamboo[tgt].append(src)\n",
    "bamboo_graph = Graph(bamboo)"
   ]
  },
  {
   "cell_type": "code",
   "execution_count": 174,
   "id": "noticed-correlation",
   "metadata": {},
   "outputs": [
    {
     "name": "stderr",
     "output_type": "stream",
     "text": [
      "/home/rebenkoy/.local/lib/python3.6/site-packages/ipykernel_launcher.py:94: TqdmDeprecationWarning: This function will be removed in tqdm==5.0.0\n",
      "Please use `tqdm.notebook.tqdm` instead of `tqdm.tqdm_notebook`\n"
     ]
    },
    {
     "data": {
      "application/vnd.jupyter.widget-view+json": {
       "model_id": "ea740d27f442465ebd3fbe6fe172efce",
       "version_major": 2,
       "version_minor": 0
      },
      "text/plain": [
       "0it [00:00, ?it/s]"
      ]
     },
     "metadata": {},
     "output_type": "display_data"
    },
    {
     "name": "stderr",
     "output_type": "stream",
     "text": [
      "/home/rebenkoy/.local/lib/python3.6/site-packages/ipykernel_launcher.py:100: TqdmDeprecationWarning: This function will be removed in tqdm==5.0.0\n",
      "Please use `tqdm.notebook.tqdm` instead of `tqdm.tqdm_notebook`\n"
     ]
    },
    {
     "data": {
      "application/vnd.jupyter.widget-view+json": {
       "model_id": "b86fb4eb92964832a57da8232d5d7a8c",
       "version_major": 2,
       "version_minor": 0
      },
      "text/plain": [
       "  0%|          | 0/10000 [00:00<?, ?it/s]"
      ]
     },
     "metadata": {},
     "output_type": "display_data"
    },
    {
     "name": "stderr",
     "output_type": "stream",
     "text": [
      "/home/rebenkoy/.local/lib/python3.6/site-packages/seaborn/_decorators.py:43: FutureWarning: Pass the following variable as a keyword arg: x. From version 0.12, the only valid positional argument will be `data`, and passing other arguments without an explicit keyword will result in an error or misinterpretation.\n",
      "  FutureWarning\n"
     ]
    },
    {
     "data": {
      "image/png": "[encoded data removed]",
      "text/plain": [
       "<Figure size 432x288 with 1 Axes>"
      ]
     },
     "metadata": {
      "needs_background": "light"
     },
     "output_type": "display_data"
    },
    {
     "name": "stderr",
     "output_type": "stream",
     "text": [
      "/home/rebenkoy/.local/lib/python3.6/site-packages/seaborn/_decorators.py:43: FutureWarning: Pass the following variable as a keyword arg: x. From version 0.12, the only valid positional argument will be `data`, and passing other arguments without an explicit keyword will result in an error or misinterpretation.\n",
      "  FutureWarning\n"
     ]
    },
    {
     "data": {
      "image/png": "[encoded data removed]",
      "text/plain": [
       "<Figure size 432x288 with 1 Axes>"
      ]
     },
     "metadata": {
      "needs_background": "light"
     },
     "output_type": "display_data"
    }
   ],
   "source": [
    "bamboo_R2_model = ShrinkingWordModel(bamboo_graph, LineEmbedding)\n",
    "bamboo_R2_model.train(0)\n",
    "bamboo_R2_test_results = bamboo_R2_model.test(10000)\n",
    "\n",
    "\n",
    "sn.violinplot(bamboo_R2_test_results[:, -2])\n",
    "sn.mpl.pyplot.show()\n",
    "sn.violinplot(bamboo_R2_test_results[:, -1])\n",
    "sn.mpl.pyplot.show()"
   ]
  },
  {
   "cell_type": "code",
   "execution_count": 206,
   "id": "mechanical-kentucky",
   "metadata": {},
   "outputs": [
    {
     "name": "stderr",
     "output_type": "stream",
     "text": [
      "/home/rebenkoy/.local/lib/python3.6/site-packages/ipykernel_launcher.py:94: TqdmDeprecationWarning: This function will be removed in tqdm==5.0.0\n",
      "Please use `tqdm.notebook.tqdm` instead of `tqdm.tqdm_notebook`\n"
     ]
    },
    {
     "data": {
      "application/vnd.jupyter.widget-view+json": {
       "model_id": "c3e4e32f2f6949669646f7bf5766e661",
       "version_major": 2,
       "version_minor": 0
      },
      "text/plain": [
       "  0%|          | 0/100 [00:00<?, ?it/s]"
      ]
     },
     "metadata": {},
     "output_type": "display_data"
    },
    {
     "name": "stderr",
     "output_type": "stream",
     "text": [
      "/home/rebenkoy/.local/lib/python3.6/site-packages/ipykernel_launcher.py:100: TqdmDeprecationWarning: This function will be removed in tqdm==5.0.0\n",
      "Please use `tqdm.notebook.tqdm` instead of `tqdm.tqdm_notebook`\n"
     ]
    },
    {
     "data": {
      "application/vnd.jupyter.widget-view+json": {
       "model_id": "a79f316a4c7f48c3b950ee11ccbb6a5b",
       "version_major": 2,
       "version_minor": 0
      },
      "text/plain": [
       "  0%|          | 0/10000 [00:00<?, ?it/s]"
      ]
     },
     "metadata": {},
     "output_type": "display_data"
    },
    {
     "name": "stderr",
     "output_type": "stream",
     "text": [
      "/home/rebenkoy/.local/lib/python3.6/site-packages/seaborn/_decorators.py:43: FutureWarning: Pass the following variable as a keyword arg: x. From version 0.12, the only valid positional argument will be `data`, and passing other arguments without an explicit keyword will result in an error or misinterpretation.\n",
      "  FutureWarning\n"
     ]
    },
    {
     "data": {
      "image/png": "[encoded data removed]",
      "text/plain": [
       "<Figure size 432x288 with 1 Axes>"
      ]
     },
     "metadata": {
      "needs_background": "light"
     },
     "output_type": "display_data"
    },
    {
     "name": "stderr",
     "output_type": "stream",
     "text": [
      "/home/rebenkoy/.local/lib/python3.6/site-packages/seaborn/_decorators.py:43: FutureWarning: Pass the following variable as a keyword arg: x. From version 0.12, the only valid positional argument will be `data`, and passing other arguments without an explicit keyword will result in an error or misinterpretation.\n",
      "  FutureWarning\n"
     ]
    },
    {
     "data": {
      "image/png": "[encoded data removed]",
      "text/plain": [
       "<Figure size 432x288 with 1 Axes>"
      ]
     },
     "metadata": {
      "needs_background": "light"
     },
     "output_type": "display_data"
    }
   ],
   "source": [
    "bamboo_R2_model = ShrinkingWordModel(bamboo_graph, LineEmbedding)\n",
    "bamboo_R2_model.train(100)\n",
    "bamboo_R2_test_results = bamboo_R2_model.test(10000)\n",
    "\n",
    "\n",
    "sn.violinplot(bamboo_R2_test_results[:, -2])\n",
    "sn.mpl.pyplot.show()\n",
    "sn.violinplot(bamboo_R2_test_results[:, -1])\n",
    "sn.mpl.pyplot.show()"
   ]
  },
  {
   "cell_type": "code",
   "execution_count": 208,
   "id": "offshore-donor",
   "metadata": {},
   "outputs": [
    {
     "name": "stderr",
     "output_type": "stream",
     "text": [
      "/home/rebenkoy/.local/lib/python3.6/site-packages/ipykernel_launcher.py:100: TqdmDeprecationWarning: This function will be removed in tqdm==5.0.0\n",
      "Please use `tqdm.notebook.tqdm` instead of `tqdm.tqdm_notebook`\n"
     ]
    },
    {
     "data": {
      "application/vnd.jupyter.widget-view+json": {
       "model_id": "c446f80f4def42099b0e88d7bcd7319a",
       "version_major": 2,
       "version_minor": 0
      },
      "text/plain": [
       "  0%|          | 0/10000 [00:00<?, ?it/s]"
      ]
     },
     "metadata": {},
     "output_type": "display_data"
    },
    {
     "name": "stderr",
     "output_type": "stream",
     "text": [
      "/home/rebenkoy/.local/lib/python3.6/site-packages/ipykernel_launcher.py:94: TqdmDeprecationWarning: This function will be removed in tqdm==5.0.0\n",
      "Please use `tqdm.notebook.tqdm` instead of `tqdm.tqdm_notebook`\n"
     ]
    },
    {
     "data": {
      "application/vnd.jupyter.widget-view+json": {
       "model_id": "6a6c330f9fe34e709cccc80920dd22f6",
       "version_major": 2,
       "version_minor": 0
      },
      "text/plain": [
       "  0%|          | 0/10 [00:00<?, ?it/s]"
      ]
     },
     "metadata": {},
     "output_type": "display_data"
    },
    {
     "data": {
      "application/vnd.jupyter.widget-view+json": {
       "model_id": "d8001f6b198342eb995fe625b97d8101",
       "version_major": 2,
       "version_minor": 0
      },
      "text/plain": [
       "  0%|          | 0/10000 [00:00<?, ?it/s]"
      ]
     },
     "metadata": {},
     "output_type": "display_data"
    },
    {
     "data": {
      "image/png": "[encoded data removed]",
      "text/plain": [
       "<Figure size 432x288 with 1 Axes>"
      ]
     },
     "metadata": {
      "needs_background": "light"
     },
     "output_type": "display_data"
    },
    {
     "data": {
      "image/png": "[encoded data removed]",
      "text/plain": [
       "<Figure size 432x288 with 1 Axes>"
      ]
     },
     "metadata": {
      "needs_background": "light"
     },
     "output_type": "display_data"
    },
    {
     "data": {
      "image/png": "[encoded data removed]",
      "text/plain": [
       "<Figure size 432x288 with 1 Axes>"
      ]
     },
     "metadata": {
      "needs_background": "light"
     },
     "output_type": "display_data"
    },
    {
     "data": {
      "image/png": "[encoded data removed]",
      "text/plain": [
       "<Figure size 432x288 with 1 Axes>"
      ]
     },
     "metadata": {
      "needs_background": "light"
     },
     "output_type": "display_data"
    }
   ],
   "source": [
    "HU_deezer_R2_model = ShrinkingWordModel(HU_deezer_graph, PlaneEmbedding)\n",
    "HU_deezer_R2_pretest_results = ShrinkingWordModel.test(HU_deezer_model, 10000)\n",
    "HU_deezer_R2_model.train(10)\n",
    "HU_deezer_R2_test_results = ShrinkingWordModel.test(HU_deezer_model, 10000)\n",
    "\n",
    "\n",
    "sn.histplot(HU_deezer_R2_pretest_results[:, -2])\n",
    "sn.mpl.pyplot.show()\n",
    "sn.histplot(HU_deezer_R2_pretest_results[:, -1])\n",
    "sn.mpl.pyplot.show()\n",
    "\n",
    "sn.histplot(HU_deezer_R2_test_results[:, -2])\n",
    "sn.mpl.pyplot.show()\n",
    "sn.histplot(HU_deezer_R2_test_results[:, -1])\n",
    "sn.mpl.pyplot.show()"
   ]
  },
  {
   "cell_type": "code",
   "execution_count": 216,
   "id": "radio-pastor",
   "metadata": {},
   "outputs": [
    {
     "data": {
      "text/plain": [
       "0.4619"
      ]
     },
     "execution_count": 216,
     "metadata": {},
     "output_type": "execute_result"
    }
   ],
   "source": [
    "np.mean(HU_deezer_R2_test_results[:, -1] < 10000 / 50)"
   ]
  },
  {
   "cell_type": "code",
   "execution_count": 107,
   "id": "drawn-voltage",
   "metadata": {},
   "outputs": [
    {
     "name": "stderr",
     "output_type": "stream",
     "text": [
      "/home/rebenkoy/.local/lib/python3.6/site-packages/ipykernel_launcher.py:94: TqdmDeprecationWarning: This function will be removed in tqdm==5.0.0\n",
      "Please use `tqdm.notebook.tqdm` instead of `tqdm.tqdm_notebook`\n"
     ]
    },
    {
     "data": {
      "application/vnd.jupyter.widget-view+json": {
       "model_id": "2b945f5daea740e6b42014aa31ff86d7",
       "version_major": 2,
       "version_minor": 0
      },
      "text/plain": [
       "  0%|          | 0/10 [00:00<?, ?it/s]"
      ]
     },
     "metadata": {},
     "output_type": "display_data"
    },
    {
     "name": "stderr",
     "output_type": "stream",
     "text": [
      "/home/rebenkoy/.local/lib/python3.6/site-packages/ipykernel_launcher.py:100: TqdmDeprecationWarning: This function will be removed in tqdm==5.0.0\n",
      "Please use `tqdm.notebook.tqdm` instead of `tqdm.tqdm_notebook`\n"
     ]
    },
    {
     "data": {
      "application/vnd.jupyter.widget-view+json": {
       "model_id": "5743596f404a4132b378a3606d6be807",
       "version_major": 2,
       "version_minor": 0
      },
      "text/plain": [
       "  0%|          | 0/10000 [00:00<?, ?it/s]"
      ]
     },
     "metadata": {},
     "output_type": "display_data"
    },
    {
     "data": {
      "image/png": "[encoded data removed]",
      "text/plain": [
       "<Figure size 432x288 with 1 Axes>"
      ]
     },
     "metadata": {
      "needs_background": "light"
     },
     "output_type": "display_data"
    },
    {
     "data": {
      "image/png": "[encoded data removed]",
      "text/plain": [
       "<Figure size 432x288 with 1 Axes>"
      ]
     },
     "metadata": {
      "needs_background": "light"
     },
     "output_type": "display_data"
    }
   ],
   "source": [
    "HU_deezer_R2_model = ShrinkingWordModel(HU_deezer_graph, PlaneEmbedding())\n",
    "HU_deezer_R2_model.train(10)\n",
    "HU_deezer_R2_test_results = ShrinkingWordModel.test(HU_deezer_model, 10000)\n",
    "\n",
    "\n",
    "sn.histplot(HU_deezer_R2_test_results[:, -2])\n",
    "sn.mpl.pyplot.show()\n",
    "sn.histplot(HU_deezer_R2_test_results[:, -1])\n",
    "sn.mpl.pyplot.show()"
   ]
  },
  {
   "cell_type": "code",
   "execution_count": 108,
   "id": "circular-civilization",
   "metadata": {},
   "outputs": [
    {
     "name": "stderr",
     "output_type": "stream",
     "text": [
      "/home/rebenkoy/.local/lib/python3.6/site-packages/ipykernel_launcher.py:94: TqdmDeprecationWarning: This function will be removed in tqdm==5.0.0\n",
      "Please use `tqdm.notebook.tqdm` instead of `tqdm.tqdm_notebook`\n"
     ]
    },
    {
     "data": {
      "application/vnd.jupyter.widget-view+json": {
       "model_id": "df1bf14e1ab44aa9afe183cdd614c826",
       "version_major": 2,
       "version_minor": 0
      },
      "text/plain": [
       "  0%|          | 0/10 [00:00<?, ?it/s]"
      ]
     },
     "metadata": {},
     "output_type": "display_data"
    },
    {
     "name": "stderr",
     "output_type": "stream",
     "text": [
      "/home/rebenkoy/.local/lib/python3.6/site-packages/ipykernel_launcher.py:100: TqdmDeprecationWarning: This function will be removed in tqdm==5.0.0\n",
      "Please use `tqdm.notebook.tqdm` instead of `tqdm.tqdm_notebook`\n"
     ]
    },
    {
     "data": {
      "application/vnd.jupyter.widget-view+json": {
       "model_id": "7f73d842b21f45149811ac289fd89518",
       "version_major": 2,
       "version_minor": 0
      },
      "text/plain": [
       "  0%|          | 0/10000 [00:00<?, ?it/s]"
      ]
     },
     "metadata": {},
     "output_type": "display_data"
    },
    {
     "data": {
      "image/png": "[encoded data removed]",
      "text/plain": [
       "<Figure size 432x288 with 1 Axes>"
      ]
     },
     "metadata": {
      "needs_background": "light"
     },
     "output_type": "display_data"
    },
    {
     "data": {
      "image/png": "[encoded data removed]",
      "text/plain": [
       "<Figure size 432x288 with 1 Axes>"
      ]
     },
     "metadata": {
      "needs_background": "light"
     },
     "output_type": "display_data"
    }
   ],
   "source": [
    "HU_deezer_S1_model = ShrinkingWordModel(HU_deezer_graph, CircleEmbedding())\n",
    "HU_deezer_S1_model.train(10)\n",
    "HU_deezer_S1_test_results = HU_deezer_S1_model.test(10000)\n",
    "\n",
    "sn.histplot(HU_deezer_S1_test_results[:, -2])\n",
    "sn.mpl.pyplot.show()\n",
    "sn.histplot(HU_deezer_S1_test_results[:, -1])\n",
    "sn.mpl.pyplot.show()"
   ]
  },
  {
   "cell_type": "code",
   "execution_count": 109,
   "id": "operational-dress",
   "metadata": {},
   "outputs": [
    {
     "name": "stderr",
     "output_type": "stream",
     "text": [
      "/home/rebenkoy/.local/lib/python3.6/site-packages/ipykernel_launcher.py:94: TqdmDeprecationWarning: This function will be removed in tqdm==5.0.0\n",
      "Please use `tqdm.notebook.tqdm` instead of `tqdm.tqdm_notebook`\n"
     ]
    },
    {
     "data": {
      "application/vnd.jupyter.widget-view+json": {
       "model_id": "327e26ae4928412b92e931f627a5614e",
       "version_major": 2,
       "version_minor": 0
      },
      "text/plain": [
       "  0%|          | 0/10 [00:00<?, ?it/s]"
      ]
     },
     "metadata": {},
     "output_type": "display_data"
    },
    {
     "name": "stderr",
     "output_type": "stream",
     "text": [
      "/home/rebenkoy/.local/lib/python3.6/site-packages/ipykernel_launcher.py:100: TqdmDeprecationWarning: This function will be removed in tqdm==5.0.0\n",
      "Please use `tqdm.notebook.tqdm` instead of `tqdm.tqdm_notebook`\n"
     ]
    },
    {
     "data": {
      "application/vnd.jupyter.widget-view+json": {
       "model_id": "a7bff46eb9d747af9bcde4f1c8e29cd8",
       "version_major": 2,
       "version_minor": 0
      },
      "text/plain": [
       "  0%|          | 0/10000 [00:00<?, ?it/s]"
      ]
     },
     "metadata": {},
     "output_type": "display_data"
    },
    {
     "data": {
      "image/png": "[encoded data removed]",
      "text/plain": [
       "<Figure size 432x288 with 1 Axes>"
      ]
     },
     "metadata": {
      "needs_background": "light"
     },
     "output_type": "display_data"
    },
    {
     "data": {
      "image/png": "[encoded data removed]",
      "text/plain": [
       "<Figure size 432x288 with 1 Axes>"
      ]
     },
     "metadata": {
      "needs_background": "light"
     },
     "output_type": "display_data"
    }
   ],
   "source": [
    "HU_deezer_R1_model = ShrinkingWordModel(HU_deezer_graph, LineEmbedding())\n",
    "HU_deezer_R1_model.train(10)\n",
    "HU_deezer_R1_test_results = ShrinkingWordModel.test(HU_deezer_model, 10000)\n",
    "\n",
    "sn.histplot(HU_deezer_R1_test_results[:, -2])\n",
    "sn.mpl.pyplot.show()\n",
    "sn.histplot(HU_deezer_R1_test_results[:, -1])\n",
    "sn.mpl.pyplot.show()"
   ]
  },
  {
   "cell_type": "code",
   "execution_count": null,
   "id": "welsh-oriental",
   "metadata": {},
   "outputs": [],
   "source": []
  }
 ],
 "metadata": {
  "kernelspec": {
   "display_name": "Python 3",
   "language": "python",
   "name": "python3"
  },
  "language_info": {
   "codemirror_mode": {
    "name": "ipython",
    "version": 3
   },
   "file_extension": ".py",
   "mimetype": "text/x-python",
   "name": "python",
   "nbconvert_exporter": "python",
   "pygments_lexer": "ipython3",
   "version": "3.6.9"
  }
 },
 "nbformat": 4,
 "nbformat_minor": 5
}
